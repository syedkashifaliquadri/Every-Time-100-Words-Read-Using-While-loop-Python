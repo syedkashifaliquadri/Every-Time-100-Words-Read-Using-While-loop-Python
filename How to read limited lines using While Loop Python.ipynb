{
 "cells": [
  {
   "cell_type": "markdown",
   "metadata": {},
   "source": [
    "# Every time 100 words read using while loop "
   ]
  },
  {
   "cell_type": "code",
   "execution_count": 6,
   "metadata": {},
   "outputs": [
    {
     "name": "stdout",
     "output_type": "stream",
     "text": [
      "PROBLEM 01: \n",
      "Strategic Business Unit:\n",
      "The SBU is a business that develops its own strategic directio\n",
      "n and vision for fully functional manner.\n",
      "It is the important part of the company and its report bac\n",
      "k through the main campus about their business status. The SBU is profit centre which they are focus\n",
      " on our vison or product to offering and market segment. In this organization are operate the focus \n",
      "on target markets independent and large internal division such as HR, finance and so forth. Most of \n",
      "the company are using the growth share matrix because this matrix provides the measurement of your p\n",
      "rofit. They are analysis its competition and its campaign and its marketing plans are discrete, even\n",
      " they are the part of larger business areas. Companies are used SBU because they provide focus, diff\n",
      "erentiate and competitive advantage to customer and company. There are the some factors that are suc\n",
      "cess of our company wealth such that each SBU manager have degree of autonomy, new changes in market\n",
      " because of corporation manner, the SBU shares functional programs and facilities to other SBU. Ther\n",
      "e are many examples to use the SBU like LG and Proctor etc.\n",
      "\n",
      "PROBLEM 02: \n",
      "Economic Environment:\n",
      "In e\n",
      "conomic environment include the current economic situation or economic decision take by government i\n",
      "n country. All types of business based on this economic environment and this environment describe th\n",
      "e direction of the country. There are the many factors that are affecting to business such are infla\n",
      "tion rate, value of rupee, stock market indices, interest rate, change in disposable income etc. The\n",
      " one of the main thing is that economy that affect the business systems, are the rate of income and \n",
      "employment in country. \n",
      "For Example:\n",
      "During an economic problem, opportunities for work are availabl\n",
      "e to enable people to generate income and have a stronger purchasing power. Nonetheless, the purchas\n",
      "ing power of most people goes down, as employment density and the rate of income up during the refun\n",
      "d period in given economic environment.\n",
      "Natural Environment:\n",
      "Natural environment are operate the bus\n",
      "iness. The natural environment covers the climatic conditions, environmental change, accessibility t\n",
      "o water and raw materials, natural disasters, pollution etc. The physical environment include the na\n",
      "tural environment. The impact of natural environment of business such that source of raw materials, \n",
      "mainstay of agriculture, employment generation etc. \n",
      "For Example:\n",
      "In source of raw material, we have\n",
      " problem in iron and steel industry cannot function without ore and other necessary minerals. In fac\n",
      "t, the mines, flora, fauna, land mass, nature of soil etc. and serve as the basis of production func\n",
      "tion.\n",
      "\n",
      "PROBLEM 03: \n",
      "SWOT Analysis:\n",
      "The SWOT analysis is a technique that can help you to take a deci\n",
      "sion and idea validation. This analysis are provide the 4 steps and these 4 steps divided into the 2\n",
      " aspect.  \n",
      "Internal: \n",
      "â€¢\tStrength \n",
      "â€¢\tWeaknesses\n",
      "External: \n",
      "â€¢\tOpportunities \t\n",
      "â€¢\tThreats\n",
      "For ex\n",
      "ample we are going to job interview and we can analysis this according to the SWOT:\n",
      "Strengths:\n",
      "The s\n",
      "trength are provide the company to reach their objectives by the internal abilities. \n",
      "For Example:\n",
      "H\n",
      "ave the good experience work because this is an edge point to you as compare the other candidates.\n",
      "e\n",
      ".g. good experience, certification, qualification etc.\n",
      "Weaknesses:\n",
      "The weaknesses provide the compan\n",
      "y to reach their objective by the company abilities but interfere the internal limitations.\n",
      "For Exam\n",
      "ple:\n",
      "How many weaknesses in your work to subsequently you and other candidate avail job. \n",
      "e.g. certi\n",
      "fication or qualification, leak of experience etc.\n",
      "Opportunities:\n",
      "The opportunities is the external \n",
      "factor they are provide the company to take the exploit to advantage.\n",
      "For Example:\n",
      "If you know the l\n",
      "atest technology work and the company work on these latest technology so it is good for you or any o\n",
      "ne leave the job and company are required you.\n",
      "Threats:\n",
      "The threats is the external factor they are \n",
      "facilitate the how many challenge to the company as a performance.\n",
      "For Example:\n",
      "If you know the late\n",
      "st technology work and the company cannot work on these latest technology so it is threat for you or\n",
      " there are many employees workers they have same type of skill with you have.\n",
      "\n"
     ]
    }
   ],
   "source": [
    "with open('file.txt','r') as f:\n",
    "    data = f.read(100)\n",
    "    while len(data) > 0:\n",
    "        print(data)\n",
    "        data = f.read(100)"
   ]
  },
  {
   "cell_type": "code",
   "execution_count": null,
   "metadata": {},
   "outputs": [],
   "source": []
  }
 ],
 "metadata": {
  "kernelspec": {
   "display_name": "Python 3",
   "language": "python",
   "name": "python3"
  },
  "language_info": {
   "codemirror_mode": {
    "name": "ipython",
    "version": 3
   },
   "file_extension": ".py",
   "mimetype": "text/x-python",
   "name": "python",
   "nbconvert_exporter": "python",
   "pygments_lexer": "ipython3",
   "version": "3.7.3"
  }
 },
 "nbformat": 4,
 "nbformat_minor": 2
}
